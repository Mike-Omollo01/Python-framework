{
 "cells": [
  {
   "cell_type": "markdown",
   "id": "1d0449a0",
   "metadata": {},
   "source": [
    "📊 CORD-19 Dataset Analysis This notebook performs a basic analysis of the CORD-19 dataset (metadata.csv)."
   ]
  },
  {
   "cell_type": "code",
   "execution_count": null,
   "id": "7dbd26ab",
   "metadata": {},
   "outputs": [],
   "source": [
    "import pandas as pd\n",
    "import matplotlib.pyplot as plt\n",
    "import seaborn as sns\n",
    "from wordcloud import WordCloud\n"
   ]
  },
  {
   "cell_type": "code",
   "execution_count": null,
   "id": "08cbbae6",
   "metadata": {},
   "outputs": [],
   "source": [
    "# Load dataset (adjust path if needed)\n",
    "df = pd.read_csv(\"CORD-19-resaerch-challenge-metadata.csv\")\n",
    "\n",
    "# Basic info\n",
    "print(df.shape)\n",
    "print(df.info())\n",
    "print(df.isnull().sum().head(10))\n",
    "df.head()"
   ]
  },
  {
   "cell_type": "code",
   "execution_count": null,
   "id": "82d29c4d",
   "metadata": {},
   "outputs": [],
   "source": [
    "# Drop rows without publish_time or title\n",
    "df = df.dropna(subset=[\"publish_time\", \"title\"])\n",
    "\n",
    "# Convert publish_time to datetime and extract year\n",
    "df[\"publish_time\"] = pd.to_datetime(df[\"publish_time\"], errors=\"coerce\")\n",
    "df[\"year\"] = df[\"publish_time\"].dt.year\n",
    "\n",
    "# Add abstract word count\n",
    "df[\"abstract_word_count\"] = df[\"abstract\"].fillna(\"\").apply(lambda x: len(x.split()))\n",
    "df.head()"
   ]
  },
  {
   "cell_type": "code",
   "execution_count": null,
   "id": "c263a946",
   "metadata": {},
   "outputs": [],
   "source": [
    "# Publications per year\n",
    "\n",
    "\n",
    "year_counts = df[\"year\"].value_counts().sort_index()\n",
    "plt.figure(figsize=(8,5))\n",
    "plt.bar(year_counts.index, year_counts.values)\n",
    "plt.title(\"Publications by Year\")\n",
    "plt.xlabel(\"Year\")\n",
    "plt.ylabel(\"Number of Papers\")\n",
    "plt.show()\n"
   ]
  },
  {
   "cell_type": "code",
   "execution_count": null,
   "id": "a288f65d",
   "metadata": {},
   "outputs": [],
   "source": [
    "# Top journals\n",
    "from matplotlib import pyplot as plt\n",
    "\n",
    "\n",
    "top_journals = df[\"journal\"].value_counts().head(10)\n",
    "plt.figure(figsize=(8,5))\n",
    "sns.barplot(y=top_journals.index, x=top_journals.values)\n",
    "plt.title(\"Top Journals Publishing COVID-19 Research\")\n",
    "plt.xlabel(\"Number of Papers\")\n",
    "plt.ylabel(\"Journal\")\n",
    "plt.show()"
   ]
  },
  {
   "cell_type": "code",
   "execution_count": null,
   "id": "a1dbfdd7",
   "metadata": {},
   "outputs": [],
   "source": [
    "# Word cloud from titles\n",
    "\n",
    "\n",
    "text = \" \".join(df[\"title\"].dropna().tolist())\n",
    "wordcloud = WordCloud(width=800, height=400, background_color=\"white\").generate(text)\n",
    "\n",
    "plt.figure(figsize=(10,6))\n",
    "plt.imshow(wordcloud, interpolation=\"bilinear\")\n",
    "plt.axis(\"off\")\n",
    "plt.title(\"Most Common Words in Paper Titles\")\n",
    "plt.show()"
   ]
  }
 ],
 "metadata": {
  "language_info": {
   "name": "python"
  }
 },
 "nbformat": 4,
 "nbformat_minor": 5
}
